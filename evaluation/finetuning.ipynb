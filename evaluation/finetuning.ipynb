{
 "cells": [
  {
   "cell_type": "code",
   "execution_count": 2,
   "metadata": {},
   "outputs": [],
   "source": [
    "import pandas as pd\n",
    "import numpy as np\n",
    "import os\n",
    "import matplotlib.pyplot as plt\n",
    "from matplotlib.ticker import FuncFormatter\n",
    "import cmcrameri\n",
    "import re\n",
    "import matplotlib"
   ]
  },
  {
   "cell_type": "code",
   "execution_count": 3,
   "metadata": {},
   "outputs": [],
   "source": [
    "paths = [\n",
    "    \"../results/optimal_hp_multiple_seeds/ks/fno/20240911_142632_ks_fno_sr_dropout/\",\n",
    "    \"../results/optimal_hp_multiple_seeds/ks/fno/20240911_142834_ks_fno_dropout/\",\n",
    "    \"../results/optimal_hp_multiple_seeds/ks/fno/20250219_173318_ks_fno_sr_dropout_finetuning/\",\n",
    "]\n",
    "\n",
    "sr_dropout_results = pd.read_csv(paths[0] + \"test.csv\", index_col=0)\n",
    "dropout_results = pd.read_csv(paths[1] + \"test.csv\", index_col=0)\n",
    "fine_tuning_results = pd.read_csv(paths[2] + \"test.csv\", index_col=0)\n",
    "\n",
    "results = [sr_dropout_results, dropout_results, fine_tuning_results]\n",
    "names = [\"SR Dropout\", \"Deterministic\", \"Fine Tuning\"]"
   ]
  },
  {
   "cell_type": "markdown",
   "metadata": {},
   "source": [
    "# Create table"
   ]
  },
  {
   "cell_type": "code",
   "execution_count": 4,
   "metadata": {},
   "outputs": [],
   "source": [
    "metrics = ['t_training','MSETest','EnergyScoreTest', 'CRPSTest', 'Gaussian NLLTest', 'CoverageTest',\n",
    "    'IntervalWidthTest']"
   ]
  },
  {
   "cell_type": "code",
   "execution_count": 5,
   "metadata": {},
   "outputs": [],
   "source": [
    "index = pd.MultiIndex.from_product([names, [\"Mean\", \"Std\"]], names=[\"Method\", \"Statistic\"])\n",
    "results_df = pd.DataFrame(columns = metrics, index = index)\n",
    "results_df.insert(1, \"Epochs\",0)"
   ]
  },
  {
   "cell_type": "code",
   "execution_count": 6,
   "metadata": {},
   "outputs": [
    {
     "name": "stderr",
     "output_type": "stream",
     "text": [
      "/tmp/ipykernel_1587064/1391808970.py:4: FutureWarning: Series.__getitem__ treating keys as positions is deprecated. In a future version, integer keys will always be treated as labels (consistent with DataFrame behavior). To access a value by position, use `ser.iloc[pos]`\n",
      "  results_df.loc[names[i], \"t_training\"] = res.loc[\"t_training\"].astype(\"float\")[0]\n",
      "/tmp/ipykernel_1587064/1391808970.py:4: FutureWarning: Series.__getitem__ treating keys as positions is deprecated. In a future version, integer keys will always be treated as labels (consistent with DataFrame behavior). To access a value by position, use `ser.iloc[pos]`\n",
      "  results_df.loc[names[i], \"t_training\"] = res.loc[\"t_training\"].astype(\"float\")[0]\n",
      "/tmp/ipykernel_1587064/1391808970.py:4: FutureWarning: Series.__getitem__ treating keys as positions is deprecated. In a future version, integer keys will always be treated as labels (consistent with DataFrame behavior). To access a value by position, use `ser.iloc[pos]`\n",
      "  results_df.loc[names[i], \"t_training\"] = res.loc[\"t_training\"].astype(\"float\")[0]\n"
     ]
    }
   ],
   "source": [
    "for i, res in enumerate(results):\n",
    "    results_df.loc[(names[i], \"Mean\"), metrics] = res.loc[metrics].astype(\"float\").mean(axis = 1)\n",
    "    results_df.loc[(names[i], \"Std\"), metrics] = res.loc[metrics].astype(\"float\").std(axis = 1)\n",
    "    results_df.loc[names[i], \"t_training\"] = res.loc[\"t_training\"].astype(\"float\")[0]"
   ]
  },
  {
   "cell_type": "code",
   "execution_count": 7,
   "metadata": {},
   "outputs": [
    {
     "name": "stderr",
     "output_type": "stream",
     "text": [
      "/tmp/ipykernel_1587064/2550698556.py:14: FutureWarning: Setting an item of incompatible dtype is deprecated and will raise an error in a future version of pandas. Value '150.77777777777777' has dtype incompatible with int64, please explicitly cast to a compatible dtype first.\n",
      "  results_df.loc[(names[i], \"Mean\"), \"Epochs\"] = np.mean(epochs)\n"
     ]
    }
   ],
   "source": [
    "# Read epochs from log file\n",
    "keepline = \": Early stopping\"\n",
    "for i,path in enumerate(paths):\n",
    "    epoch_dict = []\n",
    "\n",
    "    with open(\n",
    "        path + \"experiment.log\"\n",
    "    ) as f:\n",
    "        for line in f:\n",
    "            if keepline in line:\n",
    "                epoch_dict.append(line)\n",
    "\n",
    "    epochs = np.array([[float(s) for s in re.findall(r'\\b\\d+\\b', e)][0] for e in epoch_dict])\n",
    "    results_df.loc[(names[i], \"Mean\"), \"Epochs\"] = np.mean(epochs)\n",
    "    results_df.loc[(names[i], \"Std\"), \"Epochs\"] = np.std(epochs)\n",
    "\n",
    "# Manually adjust training time\n",
    "t_dropout = results_df.loc[(\"Deterministic\", \"Mean\"), \"t_training\"] / 98\n",
    "t_sr_dropout = results_df.loc[(\"SR Dropout\", \"Mean\"), \"t_training\"] / 142\n",
    "t_fine_tuning= results_df.loc[(\"Fine Tuning\", \"Mean\"), \"t_training\"] / 38\n",
    "\n",
    "for i,t in enumerate([t_sr_dropout, t_dropout, t_fine_tuning]):\n",
    "    results_df.loc[(names[i], \"Mean\"), \"t_training\"] = t * results_df.loc[(names[i], \"Mean\"), \"Epochs\"]\n",
    "    results_df.loc[(names[i], \"Std\"), \"t_training\"] = t * results_df.loc[(names[i], \"Std\"), \"Epochs\"]\n",
    "\n",
    "#Round table\n",
    "results_df = results_df.astype(\"float\").round(4).transpose()"
   ]
  },
  {
   "cell_type": "code",
   "execution_count": 8,
   "metadata": {},
   "outputs": [
    {
     "data": {
      "text/html": [
       "<div>\n",
       "<style scoped>\n",
       "    .dataframe tbody tr th:only-of-type {\n",
       "        vertical-align: middle;\n",
       "    }\n",
       "\n",
       "    .dataframe tbody tr th {\n",
       "        vertical-align: top;\n",
       "    }\n",
       "\n",
       "    .dataframe thead tr th {\n",
       "        text-align: left;\n",
       "    }\n",
       "</style>\n",
       "<table border=\"1\" class=\"dataframe\">\n",
       "  <thead>\n",
       "    <tr>\n",
       "      <th>Method</th>\n",
       "      <th colspan=\"2\" halign=\"left\">SR Dropout</th>\n",
       "      <th colspan=\"2\" halign=\"left\">Deterministic</th>\n",
       "      <th colspan=\"2\" halign=\"left\">Fine Tuning</th>\n",
       "    </tr>\n",
       "    <tr>\n",
       "      <th>Statistic</th>\n",
       "      <th>Mean</th>\n",
       "      <th>Std</th>\n",
       "      <th>Mean</th>\n",
       "      <th>Std</th>\n",
       "      <th>Mean</th>\n",
       "      <th>Std</th>\n",
       "    </tr>\n",
       "  </thead>\n",
       "  <tbody>\n",
       "    <tr>\n",
       "      <th>t_training</th>\n",
       "      <td>6633.3335</td>\n",
       "      <td>843.6418</td>\n",
       "      <td>4090.9920</td>\n",
       "      <td>356.4120</td>\n",
       "      <td>1971.7101</td>\n",
       "      <td>574.0969</td>\n",
       "    </tr>\n",
       "    <tr>\n",
       "      <th>Epochs</th>\n",
       "      <td>150.7778</td>\n",
       "      <td>19.1762</td>\n",
       "      <td>112.3333</td>\n",
       "      <td>9.7866</td>\n",
       "      <td>46.3333</td>\n",
       "      <td>13.4907</td>\n",
       "    </tr>\n",
       "    <tr>\n",
       "      <th>MSETest</th>\n",
       "      <td>0.8793</td>\n",
       "      <td>0.0072</td>\n",
       "      <td>0.8635</td>\n",
       "      <td>0.0048</td>\n",
       "      <td>0.8702</td>\n",
       "      <td>0.0046</td>\n",
       "    </tr>\n",
       "    <tr>\n",
       "      <th>EnergyScoreTest</th>\n",
       "      <td>0.6195</td>\n",
       "      <td>0.0049</td>\n",
       "      <td>0.7541</td>\n",
       "      <td>0.0049</td>\n",
       "      <td>0.6130</td>\n",
       "      <td>0.0033</td>\n",
       "    </tr>\n",
       "    <tr>\n",
       "      <th>CRPSTest</th>\n",
       "      <td>0.5496</td>\n",
       "      <td>0.0097</td>\n",
       "      <td>0.5974</td>\n",
       "      <td>0.0058</td>\n",
       "      <td>0.5343</td>\n",
       "      <td>0.0080</td>\n",
       "    </tr>\n",
       "    <tr>\n",
       "      <th>Gaussian NLLTest</th>\n",
       "      <td>3.0389</td>\n",
       "      <td>0.5872</td>\n",
       "      <td>107.1038</td>\n",
       "      <td>22.9412</td>\n",
       "      <td>6.0401</td>\n",
       "      <td>1.9573</td>\n",
       "    </tr>\n",
       "    <tr>\n",
       "      <th>CoverageTest</th>\n",
       "      <td>0.7640</td>\n",
       "      <td>0.0191</td>\n",
       "      <td>0.3600</td>\n",
       "      <td>0.0082</td>\n",
       "      <td>0.7950</td>\n",
       "      <td>0.0154</td>\n",
       "    </tr>\n",
       "    <tr>\n",
       "      <th>IntervalWidthTest</th>\n",
       "      <td>3.0852</td>\n",
       "      <td>0.0422</td>\n",
       "      <td>0.6046</td>\n",
       "      <td>0.0164</td>\n",
       "      <td>3.1327</td>\n",
       "      <td>0.0288</td>\n",
       "    </tr>\n",
       "  </tbody>\n",
       "</table>\n",
       "</div>"
      ],
      "text/plain": [
       "Method            SR Dropout           Deterministic           Fine Tuning  \\\n",
       "Statistic               Mean       Std          Mean       Std        Mean   \n",
       "t_training         6633.3335  843.6418     4090.9920  356.4120   1971.7101   \n",
       "Epochs              150.7778   19.1762      112.3333    9.7866     46.3333   \n",
       "MSETest               0.8793    0.0072        0.8635    0.0048      0.8702   \n",
       "EnergyScoreTest       0.6195    0.0049        0.7541    0.0049      0.6130   \n",
       "CRPSTest              0.5496    0.0097        0.5974    0.0058      0.5343   \n",
       "Gaussian NLLTest      3.0389    0.5872      107.1038   22.9412      6.0401   \n",
       "CoverageTest          0.7640    0.0191        0.3600    0.0082      0.7950   \n",
       "IntervalWidthTest     3.0852    0.0422        0.6046    0.0164      3.1327   \n",
       "\n",
       "Method                       \n",
       "Statistic               Std  \n",
       "t_training         574.0969  \n",
       "Epochs              13.4907  \n",
       "MSETest              0.0046  \n",
       "EnergyScoreTest      0.0033  \n",
       "CRPSTest             0.0080  \n",
       "Gaussian NLLTest     1.9573  \n",
       "CoverageTest         0.0154  \n",
       "IntervalWidthTest    0.0288  "
      ]
     },
     "execution_count": 8,
     "metadata": {},
     "output_type": "execute_result"
    }
   ],
   "source": [
    "results_df"
   ]
  },
  {
   "cell_type": "code",
   "execution_count": 9,
   "metadata": {},
   "outputs": [
    {
     "data": {
      "text/plain": [
       "Index(['t_training', 'Epochs', 'MSETest', 'EnergyScoreTest', 'CRPSTest',\n",
       "       'Gaussian NLLTest', 'CoverageTest', 'IntervalWidthTest'],\n",
       "      dtype='object')"
      ]
     },
     "execution_count": 9,
     "metadata": {},
     "output_type": "execute_result"
    }
   ],
   "source": [
    "results_df.index"
   ]
  },
  {
   "cell_type": "code",
   "execution_count": 10,
   "metadata": {},
   "outputs": [
    {
     "name": "stdout",
     "output_type": "stream",
     "text": [
      "\\begin{tabular}{llll}\n",
      "\\toprule\n",
      " & SR Dropout & Deterministic & Fine Tuning \\\\\n",
      "\\midrule\n",
      "t_training & \\makecell{6633.3335 \\\\ ($\\pm$ 843.6418)} & \\makecell{4090.9920 \\\\ ($\\pm$ 356.4120)} & \\makecell{1971.7101 \\\\ ($\\pm$ 574.0969)} \\\\\n",
      "Epochs & \\makecell{150.7778 \\\\ ($\\pm$ 19.1762)} & \\makecell{112.3333 \\\\ ($\\pm$ 9.7866)} & \\makecell{46.3333 \\\\ ($\\pm$ 13.4907)} \\\\\n",
      "MSETest & \\makecell{0.8793 \\\\ ($\\pm$ 0.0072)} & \\makecell{0.8635 \\\\ ($\\pm$ 0.0048)} & \\makecell{0.8702 \\\\ ($\\pm$ 0.0046)} \\\\\n",
      "EnergyScoreTest & \\makecell{0.6195 \\\\ ($\\pm$ 0.0049)} & \\makecell{0.7541 \\\\ ($\\pm$ 0.0049)} & \\makecell{0.6130 \\\\ ($\\pm$ 0.0033)} \\\\\n",
      "CRPSTest & \\makecell{0.5496 \\\\ ($\\pm$ 0.0097)} & \\makecell{0.5974 \\\\ ($\\pm$ 0.0058)} & \\makecell{0.5343 \\\\ ($\\pm$ 0.0080)} \\\\\n",
      "Gaussian NLLTest & \\makecell{3.0389 \\\\ ($\\pm$ 0.5872)} & \\makecell{107.1038 \\\\ ($\\pm$ 22.9412)} & \\makecell{6.0401 \\\\ ($\\pm$ 1.9573)} \\\\\n",
      "CoverageTest & \\makecell{0.7640 \\\\ ($\\pm$ 0.0191)} & \\makecell{0.3600 \\\\ ($\\pm$ 0.0082)} & \\makecell{0.7950 \\\\ ($\\pm$ 0.0154)} \\\\\n",
      "IntervalWidthTest & \\makecell{3.0852 \\\\ ($\\pm$ 0.0422)} & \\makecell{0.6046 \\\\ ($\\pm$ 0.0164)} & \\makecell{3.1327 \\\\ ($\\pm$ 0.0288)} \\\\\n",
      "\\bottomrule\n",
      "\\end{tabular}\n",
      "\n"
     ]
    }
   ],
   "source": [
    "# Create latex table\n",
    "formatted_df = pd.DataFrame()\n",
    "metrics = results_df.index # Extract only test metrics\n",
    "\n",
    "# Create a new DataFrame with the method as the index and metrics as columns\n",
    "for metric in metrics:\n",
    "    formatted_df[metric] = [\n",
    "        f\"\\\\makecell{{{results_df.loc[metric, method].values[0]:.4f} \\\\\\\\ ($\\\\pm$ {results_df.loc[metric, method].values[1]:.4f})}}\"\n",
    "        for method in names\n",
    "    ]\n",
    "formatted_df.index = names\n",
    "latex_table = formatted_df.transpose().to_latex(escape=False)\n",
    "print(latex_table)"
   ]
  },
  {
   "cell_type": "markdown",
   "metadata": {},
   "source": [
    "# Create plots"
   ]
  },
  {
   "cell_type": "code",
   "execution_count": 11,
   "metadata": {},
   "outputs": [],
   "source": [
    "def get_losses(paths, idx):\n",
    "    # Read epochs from first run of log file\n",
    "    keepline = \"Training loss:\"\n",
    "    stopline = \": Early stopping\"\n",
    "    # for i,path in enumerate(paths):\n",
    "    #     epoch_dict = []\n",
    "    lines = []\n",
    "    with open(\n",
    "        paths[idx] + \"experiment.log\"\n",
    "    ) as f:\n",
    "        for line in f:\n",
    "            if keepline in line:\n",
    "                lines.append(line)\n",
    "            if stopline in line:\n",
    "                break\n",
    "\n",
    "    train_loss = []\n",
    "    val_loss = []\n",
    "    for l in lines:\n",
    "        train, val = [float(s) for s in re.findall(r\"\\d+\\.\\d+\", l)][0:2]\n",
    "        train_loss.append(train)\n",
    "        val_loss.append(val)\n",
    "    return train_loss, val_loss"
   ]
  },
  {
   "cell_type": "code",
   "execution_count": 29,
   "metadata": {},
   "outputs": [
    {
     "data": {
      "image/png": "[encoded data removed]",
      "text/plain": [
       "<Figure size 1100x300 with 1 Axes>"
      ]
     },
     "metadata": {},
     "output_type": "display_data"
    }
   ],
   "source": [
    "cmap = matplotlib.colormaps.get_cmap('cmc.vik')\n",
    "\n",
    "dropout_color = cmap(0.99)\n",
    "fine_tuning_color = cmap(0)\n",
    "legendsize = 13\n",
    "labelsize = 13\n",
    "lw = 2.5\n",
    "\n",
    "fig, axs = plt.subplots(figsize = (11,3))\n",
    "# SR Dropout\n",
    "train_loss, val_loss = get_losses(paths, 0)\n",
    "n_epochs = len(train_loss)\n",
    "x = np.arange(0,n_epochs)*t_sr_dropout\n",
    "axs.plot(x, train_loss,  \"-\", color = dropout_color, label = r\"$PNO_D$: Training\", lw = lw)\n",
    "axs.plot(x, val_loss, \"--\", color = dropout_color,  label = r\"$PNO_D$: Validation\", lw = lw)\n",
    "\n",
    "\n",
    "# Fine tuning\n",
    "train_loss, val_loss = get_losses(paths, 2)\n",
    "n_epochs = len(train_loss)\n",
    "x = np.arange(0,n_epochs)*t_fine_tuning\n",
    "axs.plot(x, train_loss, \"-\", color = fine_tuning_color, label = r\"$PNO_D$ (pre-trained): Training\", lw = lw)\n",
    "axs.plot(x, val_loss, \"--\", color = fine_tuning_color, label = r\"$PNO_D$ (pre-trained): Validation\", lw = lw)\n",
    "\n",
    "axs.set_xlabel(\"t [s]\", size = labelsize)\n",
    "axs.set_ylabel(\"Energy score\", size = labelsize)\n",
    "axs.set_ylim([0.595,0.73])\n",
    "axs.set_xlim([0,6300])\n",
    "axs.legend(fontsize = legendsize, loc = \"best\")\n",
    "plt.grid(True)\n",
    "\n",
    "plt.savefig(\"plots/plots/finetuning.pdf\", dpi = 300, bbox_inches = \"tight\")"
   ]
  },
  {
   "cell_type": "code",
   "execution_count": null,
   "metadata": {},
   "outputs": [
    {
     "data": {
      "text/plain": [
       "3568.996"
      ]
     },
     "execution_count": 178,
     "metadata": {},
     "output_type": "execute_result"
    }
   ],
   "source": [
    "t_epoch"
   ]
  }
 ],
 "metadata": {
  "kernelspec": {
   "display_name": "pfno",
   "language": "python",
   "name": "python3"
  },
  "language_info": {
   "codemirror_mode": {
    "name": "ipython",
    "version": 3
   },
   "file_extension": ".py",
   "mimetype": "text/x-python",
   "name": "python",
   "nbconvert_exporter": "python",
   "pygments_lexer": "ipython3",
   "version": "3.12.2"
  }
 },
 "nbformat": 4,
 "nbformat_minor": 2
}
