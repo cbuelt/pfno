{
 "cells": [
  {
   "cell_type": "code",
   "execution_count": 1,
   "metadata": {},
   "outputs": [],
   "source": [
    "import torch\n",
    "import matplotlib.pyplot as plt\n",
    "import sys\n",
    "from neuralop.models import FNO, UNO, TFNO\n",
    "from neuralop import Trainer\n",
    "from neuralop.datasets import load_darcy_flow_small\n",
    "from neuralop.utils import count_model_params\n",
    "from neuralop import LpLoss, H1Loss\n",
    "from utils import get_dataloaders, TensorDataset\n",
    "import numpy as np\n",
    "from timeit import default_timer\n",
    "import torch.nn.functional as F\n",
    "import torch.nn as nn\n",
    "from losses import EnergyScore, KernelScore, VariogramScore\n",
    "from models import UNO_reparam, TFNO_reparam\n",
    "\n",
    "device = torch.device(\"cuda\" if torch.cuda.is_available() else \"cpu\")"
   ]
  },
  {
   "cell_type": "code",
   "execution_count": 2,
   "metadata": {},
   "outputs": [],
   "source": [
    "# Subsampling rate\n",
    "ntrain = 1500\n",
    "ntest = 150\n",
    "batch_size = 32\n",
    "\n",
    "t1 = 5\n",
    "t2 = 6\n",
    "data = np.load(\"data/ks_2d_data.npy\").astype(np.float32)"
   ]
  },
  {
   "cell_type": "code",
   "execution_count": null,
   "metadata": {},
   "outputs": [],
   "source": [
    "# Example plot\n",
    "n_samples = np.random.randint(0,ntrain,5)\n",
    "\n",
    "fig, axs = plt.subplots(2, 5, figsize = (15,4))\n",
    "index = 0\n",
    "for i, sample in enumerate(n_samples):\n",
    "    axs[0,i].imshow(data[sample, t1], cmap = \"inferno\")\n",
    "    axs[1,i].imshow(data[sample, t2], cmap = \"inferno\")"
   ]
  },
  {
   "cell_type": "code",
   "execution_count": null,
   "metadata": {},
   "outputs": [],
   "source": [
    "grid_range = 1\n",
    "\n",
    "x_data = torch.tensor(data[:,t1])\n",
    "y_data = torch.tensor(data[:,t2])\n",
    "x_data = (x_data - x_data.mean()) / x_data.std()\n",
    "y_data = (y_data - y_data.mean()) / y_data.std()\n",
    "size_x = x_data.shape[1]\n",
    "\n",
    "# Add channel dimension\n",
    "x_data = x_data[:, None, :]\n",
    "y_data = y_data[:, None, :]\n",
    "\n",
    "x_train, y_train = x_data[:ntrain], y_data[:ntrain]\n",
    "x_test, y_test = x_data[-ntest:], y_data[-ntest:]\n",
    "\n",
    "# Add grid\n",
    "x = np.linspace(0, grid_range, size_x)\n",
    "y = np.linspace(0, grid_range, size_x)\n",
    "gridx = np.stack(np.meshgrid(x, y))\n",
    "gridx = torch.tensor(gridx).float().reshape(1, 2, size_x, size_x)\n",
    "\n",
    "x_train = torch.cat((x_train, gridx.repeat([ntrain, 1, 1, 1])), dim=1)\n",
    "x_test = torch.cat((x_test, gridx.repeat([ntest, 1, 1, 1])), dim=1)\n",
    "\n",
    "train_loader = torch.utils.data.DataLoader(TensorDataset(x_train, y_train),\n",
    "                                        batch_size=batch_size, shuffle=True)\n",
    "test_loader = torch.utils.data.DataLoader(TensorDataset(x_test, y_test),\n",
    "                                        batch_size=batch_size, shuffle=False)\n",
    "test_data = [x_test, y_test]"
   ]
  },
  {
   "cell_type": "markdown",
   "metadata": {},
   "source": [
    "# Losses and parameters"
   ]
  },
  {
   "cell_type": "code",
   "execution_count": null,
   "metadata": {},
   "outputs": [],
   "source": [
    "# Losses and parameters\n",
    "l2loss = LpLoss(d=2, p=2, L = 50.0)\n",
    "energy_score = EnergyScore(d = 2, p = 2, type = \"lp\", L = 50.0)\n",
    "#energy_score = KernelScore(d=2, p=2, type = \"lp\",  L = 50.0, kernel =\"laplace\", gamma = 20)\n",
    "\n",
    "# Training parameters\n",
    "epochs = 25\n",
    "learning_rate = 0.0015\n",
    "dropout_rate = 0.1"
   ]
  },
  {
   "cell_type": "markdown",
   "metadata": {},
   "source": [
    "# MC dropout"
   ]
  },
  {
   "cell_type": "code",
   "execution_count": null,
   "metadata": {},
   "outputs": [],
   "source": [
    "def generate_mc_samples(model, x, shape, n_samples=100):\n",
    "    samples = torch.zeros(*shape, n_samples)\n",
    "    for i in range(n_samples):\n",
    "        with torch.no_grad():\n",
    "            samples[...,i] = model(x).detach()\n",
    "    return samples"
   ]
  },
  {
   "cell_type": "code",
   "execution_count": null,
   "metadata": {},
   "outputs": [],
   "source": [
    "model = TFNO(n_modes=(16,16), hidden_channels=32, projection_channels=64,in_channels = 3, rank = 0.42, use_mlp = True, mlp_dropout=dropout_rate)\n",
    "model = model.to(device)\n",
    "\n",
    "n_params = count_model_params(model)\n",
    "print(f'\\nOur model has {n_params} parameters.')\n",
    "sys.stdout.flush()\n"
   ]
  },
  {
   "cell_type": "code",
   "execution_count": null,
   "metadata": {},
   "outputs": [],
   "source": [
    "optimizer = torch.optim.Adam(model.parameters(),lr=learning_rate)\n",
    "scheduler = torch.optim.lr_scheduler.CosineAnnealingLR(optimizer, T_max=30)"
   ]
  },
  {
   "cell_type": "code",
   "execution_count": null,
   "metadata": {},
   "outputs": [],
   "source": [
    "train_loss = torch.zeros(epochs)\n",
    "test_loss = torch.zeros(epochs)\n",
    "\n",
    "for ep in range(epochs):\n",
    "    model.train()\n",
    "    t1 = default_timer()\n",
    "    train_mse = 0\n",
    "    train_l2 = 0\n",
    "    for sample in train_loader:\n",
    "        x = sample[\"x\"].to(device)\n",
    "        y = sample[\"y\"].to(device)\n",
    "\n",
    "        optimizer.zero_grad()\n",
    "        out = model(x)\n",
    "        \n",
    "        mse = F.mse_loss(out.view(batch_size, -1), y.view(batch_size, -1))\n",
    "        l2 = l2loss(out.view(batch_size, -1), y.view(batch_size, -1))\n",
    "        l2.backward() # l2 relative loss\n",
    "\n",
    "        optimizer.step()\n",
    "        train_mse += mse.item()\n",
    "        train_l2 += l2.item()\n",
    "\n",
    "    scheduler.step()\n",
    "    model.eval()\n",
    "    test_l2 = 0.0\n",
    "    with torch.no_grad():\n",
    "        for sample in test_loader:\n",
    "            x = sample[\"x\"].to(device)\n",
    "            y= sample[\"y\"].to(device)\n",
    "\n",
    "            out = model(x)\n",
    "            test_l2 += l2loss(out.view(batch_size, -1), y.view(batch_size, -1)).item()\n",
    "\n",
    "    train_mse /= len(train_loader)\n",
    "    train_l2 /= ntrain\n",
    "    test_l2 /= ntest\n",
    "    \n",
    "    train_loss[ep] = train_l2\n",
    "    test_loss[ep] = test_l2\n",
    "\n",
    "    t2 = default_timer()\n",
    "    print('Epoch-{}, Time-{:0.4f}, Train-MSE-{:0.4f}, Train-L2-{:0.4f}, Test-L2-{:0.4f}'\n",
    "          .format(ep, t2-t1, train_mse, train_l2, test_l2))"
   ]
  },
  {
   "cell_type": "code",
   "execution_count": null,
   "metadata": {},
   "outputs": [],
   "source": [
    "# %%\n",
    "model.train()\n",
    "\"\"\" Prediction \"\"\"\n",
    "pred = []\n",
    "with torch.no_grad():    \n",
    "    index = 0\n",
    "    for sample in test_loader:\n",
    "        x = sample[\"x\"].to(device)\n",
    "        y = sample[\"y\"].to(device)\n",
    "        out = generate_mc_samples(model, x, y.shape, n_samples=50)\n",
    "        pred.append( out )\n",
    "\n",
    "\n",
    "pred = torch.cat((pred))\n",
    "mse_dropout = F.mse_loss(pred.mean(axis = -1).view(-1, size_x, size_x), y_test.view(-1, size_x, size_x)).item()\n",
    "es_dropout = energy_score(pred, y_test).item()\n",
    "\n",
    "print('MSE:', mse_dropout)\n",
    "print('ES:', es_dropout)"
   ]
  },
  {
   "cell_type": "code",
   "execution_count": null,
   "metadata": {},
   "outputs": [],
   "source": [
    "x_test, y_test = test_data\n",
    "\n",
    "n_samples = np.random.randint(0,ntest,5)\n",
    "\n",
    "\"\"\" Plotting \"\"\" \n",
    "fig, axs = plt.subplots(4, 5, figsize = (12, 8))\n",
    "index = 0\n",
    "for i, sample in enumerate(n_samples):\n",
    "        axs[0,i].imshow(x_test[sample,0].cpu().numpy(), cmap = \"inferno\")\n",
    "        axs[1,i].imshow(y_test[sample,0].cpu().numpy(), cmap = \"inferno\")\n",
    "        axs[2,i].imshow(pred[sample,0].cpu().numpy().mean(axis = -1), cmap = \"inferno\")\n",
    "        axs[3,i].imshow(pred[sample,0].cpu().numpy().std(axis = -1), cmap = \"viridis\")\n",
    "\n",
    "for ax in axs.flatten():\n",
    "    ax.set_xticks([])\n",
    "    ax.set_yticks([])\n",
    "    ax.margins(0)\n",
    "\n",
    "axs[0,0].set_ylabel('Input')\n",
    "axs[1,0].set_ylabel('Truth')\n",
    "axs[2,0].set_ylabel('Mean prediction')\n",
    "axs[3,0].set_ylabel('Standard deviation')\n",
    "\n",
    "fig.tight_layout()"
   ]
  },
  {
   "cell_type": "code",
   "execution_count": null,
   "metadata": {},
   "outputs": [],
   "source": [
    "pred[:,0].cpu().numpy().std(axis = -1).mean()"
   ]
  },
  {
   "cell_type": "markdown",
   "metadata": {},
   "source": [
    "# PFNO"
   ]
  },
  {
   "cell_type": "code",
   "execution_count": null,
   "metadata": {},
   "outputs": [],
   "source": [
    "sample_model = TFNO_reparam(n_modes=(16,16), hidden_channels=32, projection_channels=64, in_channels=3, n_samples = 5, rank = 0.42,\n",
    "                            use_mlp = True, mlp_dropout=0)\n",
    "\n",
    "sample_model.to(device)\n",
    "# Model and optimizer\n",
    "optimizer = torch.optim.Adam(sample_model.parameters(), lr = learning_rate)\n",
    "scheduler = torch.optim.lr_scheduler.CosineAnnealingLR(optimizer, T_max=30)"
   ]
  },
  {
   "cell_type": "code",
   "execution_count": null,
   "metadata": {},
   "outputs": [],
   "source": [
    "train_loss = torch.zeros(epochs)\n",
    "test_loss = torch.zeros(epochs)\n",
    "\n",
    "for ep in range(epochs):\n",
    "    sample_model.train()\n",
    "    t1 = default_timer()\n",
    "    train_l2 = 0\n",
    "    for sample in train_loader:\n",
    "        x = sample[\"x\"].to(device)\n",
    "        y = sample[\"y\"].to(device)\n",
    "\n",
    "        optimizer.zero_grad()\n",
    "        out = sample_model(x)\n",
    "        \n",
    "        l2 = energy_score(out,y)\n",
    "        l2.backward() # l2 relative loss\n",
    "\n",
    "        optimizer.step()\n",
    "        train_l2 += l2.item()\n",
    "\n",
    "    scheduler.step()\n",
    "    test_l2 = 0.0\n",
    "    with torch.no_grad():\n",
    "        for sample in test_loader:\n",
    "            x = sample[\"x\"].to(device)\n",
    "            y = sample[\"y\"].to(device)\n",
    "\n",
    "            out = sample_model(x)\n",
    "            test_l2 += energy_score(out,y).item()\n",
    "\n",
    "    train_l2 /= ntrain\n",
    "    test_l2 /= ntest\n",
    "    \n",
    "    train_loss[ep] = train_l2\n",
    "    test_loss[ep] = test_l2\n",
    "\n",
    "    t2 = default_timer()\n",
    "    print('Epoch-{}, Time-{:0.4f}, Train-L2-{:0.4f}, Test-L2-{:0.4f}'\n",
    "          .format(ep, t2-t1, train_l2, test_l2))"
   ]
  },
  {
   "cell_type": "code",
   "execution_count": null,
   "metadata": {},
   "outputs": [],
   "source": [
    "# %%\n",
    "sample_model.eval()\n",
    "\"\"\" Prediction \"\"\"\n",
    "pred = []\n",
    "with torch.no_grad():    \n",
    "    index = 0\n",
    "    for sample in test_loader:\n",
    "        x = sample[\"x\"].to(device)\n",
    "        y = sample[\"y\"].to(device)\n",
    "        out = sample_model(x, n_samples = 50).detach().cpu()\n",
    "        pred.append( out )\n",
    "\n",
    "\n",
    "pred = torch.cat((pred))\n",
    "mse = F.mse_loss(pred.mean(axis = -1).view(-1, size_x, size_x), y_test.view(-1, size_x, size_x)).item()\n",
    "es = energy_score(pred, y_test).item()\n",
    "\n",
    "print('MSE:', mse)\n",
    "print('ES:', es)"
   ]
  },
  {
   "cell_type": "code",
   "execution_count": null,
   "metadata": {},
   "outputs": [],
   "source": [
    "x_test, y_test = test_data\n",
    "# %%\n",
    "\n",
    "n_samples = np.random.randint(0,ntest,5)\n",
    "\n",
    "\"\"\" Plotting \"\"\" \n",
    "fig, axs = plt.subplots(4, 5, figsize = (12, 8))\n",
    "index = 0\n",
    "for i, sample in enumerate(n_samples):\n",
    "        axs[0,i].imshow(x_test[sample,0].cpu().numpy(), cmap = \"inferno\")\n",
    "        axs[1,i].imshow(y_test[sample,0].cpu().numpy(), cmap = \"inferno\")\n",
    "        axs[2,i].imshow(pred[sample,0].cpu().numpy().mean(axis = -1), cmap = \"inferno\")\n",
    "        axs[3,i].imshow(pred[sample,0].cpu().numpy().std(axis = -1), cmap = \"viridis\")\n",
    "\n",
    "for ax in axs.flatten():\n",
    "    ax.set_xticks([])\n",
    "    ax.set_yticks([])\n",
    "    ax.margins(0)\n",
    "\n",
    "axs[0,0].set_ylabel('Input')\n",
    "axs[1,0].set_ylabel('Truth')\n",
    "axs[2,0].set_ylabel('Mean prediction')\n",
    "axs[3,0].set_ylabel('Standard deviation')\n",
    "\n",
    "fig.tight_layout()"
   ]
  },
  {
   "cell_type": "code",
   "execution_count": null,
   "metadata": {},
   "outputs": [],
   "source": [
    "pred[:,0].cpu().numpy().std(axis = -1).mean()"
   ]
  },
  {
   "cell_type": "code",
   "execution_count": null,
   "metadata": {},
   "outputs": [],
   "source": [
    "# Comparison\n",
    "print('MSE-Dropout:', mse_dropout)\n",
    "print('ES-Dropout:', es_dropout)\n",
    "\n",
    "print('MSE:', mse)\n",
    "print('ES:', es)"
   ]
  },
  {
   "cell_type": "code",
   "execution_count": null,
   "metadata": {},
   "outputs": [],
   "source": []
  }
 ],
 "metadata": {
  "kernelspec": {
   "display_name": "neurop",
   "language": "python",
   "name": "python3"
  },
  "language_info": {
   "codemirror_mode": {
    "name": "ipython",
    "version": 3
   },
   "file_extension": ".py",
   "mimetype": "text/x-python",
   "name": "python",
   "nbconvert_exporter": "python",
   "pygments_lexer": "ipython3",
   "version": "3.11.7"
  }
 },
 "nbformat": 4,
 "nbformat_minor": 2
}
